{
 "cells": [
  {
   "cell_type": "code",
   "execution_count": 2,
   "source": [
    "import cv2\r\n",
    "import pandas as pd\r\n",
    "import numpy as np\r\n"
   ],
   "outputs": [],
   "metadata": {}
  },
  {
   "cell_type": "code",
   "execution_count": 5,
   "source": [
    "img = np.zeros((3,3))\r\n",
    "\r\n",
    "print(img)\r\n",
    "\r\n",
    "img_float32 = np.float32(img)\r\n",
    "\r\n",
    "# image is in grey color as only one\r\n",
    "# dimension is there"
   ],
   "outputs": [
    {
     "output_type": "stream",
     "name": "stdout",
     "text": [
      "[[0. 0. 0.]\n",
      " [0. 0. 0.]\n",
      " [0. 0. 0.]]\n"
     ]
    }
   ],
   "metadata": {}
  },
  {
   "cell_type": "code",
   "execution_count": 6,
   "source": [
    "# converting image to BGR format\r\n",
    "img = cv2.cvtColor(img_float32,cv2.COLOR_GRAY2BGR)\r\n",
    "\r\n",
    "print(img)"
   ],
   "outputs": [
    {
     "output_type": "stream",
     "name": "stdout",
     "text": [
      "[[[0. 0. 0.]\n",
      "  [0. 0. 0.]\n",
      "  [0. 0. 0.]]\n",
      "\n",
      " [[0. 0. 0.]\n",
      "  [0. 0. 0.]\n",
      "  [0. 0. 0.]]\n",
      "\n",
      " [[0. 0. 0.]\n",
      "  [0. 0. 0.]\n",
      "  [0. 0. 0.]]]\n"
     ]
    }
   ],
   "metadata": {}
  },
  {
   "cell_type": "code",
   "execution_count": 7,
   "source": [
    "# we can also represent with HSV(hue ,saturation,) color space\r\n",
    "#  where hue has a range of (0-180) and different number of\r\n",
    "# channels\r\n",
    "\r\n",
    "img.shape\r\n",
    "# returns number of row columns and channels of\r\n"
   ],
   "outputs": [
    {
     "output_type": "execute_result",
     "data": {
      "text/plain": [
       "(3, 3, 3)"
      ]
     },
     "metadata": {},
     "execution_count": 7
    }
   ],
   "metadata": {}
  },
  {
   "cell_type": "code",
   "execution_count": 9,
   "source": [
    "# converting image format\r\n",
    "\r\n",
    "image = cv2.imread('D:\\corona trek\\IMG_20200913_070740.jpg')\r\n",
    "cv2.imwrite('mypic.png',image)\r\n",
    "\r\n",
    "# info- by default imread() returns image in BGR format even if file\r\n",
    "# is in greycolor . BGR format represents same color space as RGB\r\n",
    "# byte value order is reversed."
   ],
   "outputs": [
    {
     "output_type": "execute_result",
     "data": {
      "text/plain": [
       "True"
      ]
     },
     "metadata": {},
     "execution_count": 9
    }
   ],
   "metadata": {}
  },
  {
   "cell_type": "code",
   "execution_count": 10,
   "source": [
    "# info -  we can specify the mode of imread()\r\n",
    "# as IMREAD_ANYCOLOR = 4\r\n",
    "#    IMREAD_ANYDEPTH = 2\r\n",
    "#    IMREAD_COLOR = 1\r\n",
    "#    IMREAD_GRAYSCALE =0 \r\n",
    "#    IMREAD_LOAD_GDAL =8\r\n",
    "#    IMREAD_UNCHANGED = -1\r\n",
    "\r\n",
    "gray_image = cv2.imread('mypic.png',cv2.IMREAD_GRAYSCALE)\r\n",
    "cv2.imwrite('mypicgrey.png',gray_image)"
   ],
   "outputs": [
    {
     "output_type": "execute_result",
     "data": {
      "text/plain": [
       "True"
      ]
     },
     "metadata": {},
     "execution_count": 10
    }
   ],
   "metadata": {}
  },
  {
   "cell_type": "code",
   "execution_count": 12,
   "source": [
    "\"\"\"\r\n",
    "Regardless of the mode, imread() discards any alpha channel (transparency). The\r\n",
    "imwrite() function requires an image to be in the BGR or grayscale format with a\r\n",
    "certain number of bits per channel that the output format can support. For example,\r\n",
    "bmp requires 8 bits per channel, while PNG allows either 8 or 16 bits per channel\r\n",
    "\r\n",
    "\"\"\"\r\n",
    "\r\n"
   ],
   "outputs": [
    {
     "output_type": "execute_result",
     "data": {
      "text/plain": [
       "'\\nRegardless of the mode, imread() discards any alpha channel (transparency). The\\nimwrite() function requires an image to be in the BGR or grayscale format with a\\ncertain number of bits per channel that the output format can support. For example,\\nbmp requires 8 bits per channel, while PNG allows either 8 or 16 bits per channel\\n\\n'"
      ]
     },
     "metadata": {},
     "execution_count": 12
    }
   ],
   "metadata": {}
  },
  {
   "cell_type": "markdown",
   "source": [],
   "metadata": {}
  },
  {
   "cell_type": "markdown",
   "source": [],
   "metadata": {}
  },
  {
   "cell_type": "code",
   "execution_count": 16,
   "source": [
    "kapil_creates_image = np.array([[[2,3,1],[1,125,233],[233,56,56]],\r\n",
    "                              [[125,106,123],[230,1,25],[255,255,255]],\r\n",
    "                              [[255,255,255],[255,255,255],[102,145,78]]])"
   ],
   "outputs": [],
   "metadata": {}
  },
  {
   "cell_type": "code",
   "execution_count": 19,
   "source": [
    "cv2.imwrite('kapil_creates_image.png',kapil_creates_image)"
   ],
   "outputs": [
    {
     "output_type": "execute_result",
     "data": {
      "text/plain": [
       "True"
      ]
     },
     "metadata": {},
     "execution_count": 19
    }
   ],
   "metadata": {}
  }
 ],
 "metadata": {
  "orig_nbformat": 4,
  "language_info": {
   "name": "python",
   "version": "3.8.8",
   "mimetype": "text/x-python",
   "codemirror_mode": {
    "name": "ipython",
    "version": 3
   },
   "pygments_lexer": "ipython3",
   "nbconvert_exporter": "python",
   "file_extension": ".py"
  },
  "kernelspec": {
   "name": "python3",
   "display_name": "Python 3.8.8 64-bit ('base': conda)"
  },
  "interpreter": {
   "hash": "d862afd012e95032983128f7fd4d27e359bc69a4ee6e8634b060610de2918ea9"
  }
 },
 "nbformat": 4,
 "nbformat_minor": 2
}